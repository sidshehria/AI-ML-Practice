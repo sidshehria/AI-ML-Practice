{
  "nbformat": 4,
  "nbformat_minor": 0,
  "metadata": {
    "colab": {
      "provenance": []
    },
    "kernelspec": {
      "name": "python3",
      "display_name": "Python 3"
    },
    "language_info": {
      "name": "python"
    }
  },
  "cells": [
    {
      "cell_type": "markdown",
      "source": [
        "### Task - 1 Create a pandas dataframe (DataFrame name as 'df') with numpy random values (4 features and 4 observation)"
      ],
      "metadata": {
        "id": "zhIK5OS42_Ru"
      }
    },
    {
      "cell_type": "code",
      "execution_count": 1,
      "metadata": {
        "colab": {
          "base_uri": "https://localhost:8080/"
        },
        "id": "YGl8tQKM26M_",
        "outputId": "c6c0366f-4781-41c0-b150-93165aba035a"
      },
      "outputs": [
        {
          "output_type": "stream",
          "name": "stdout",
          "text": [
            "              Feature1  Feature2  Feature3  Feature4\n",
            "Observation1  0.374540  0.950714  0.731994  0.598658\n",
            "Observation2  0.156019  0.155995  0.058084  0.866176\n",
            "Observation3  0.601115  0.708073  0.020584  0.969910\n",
            "Observation4  0.832443  0.212339  0.181825  0.183405\n"
          ]
        }
      ],
      "source": [
        "import pandas as pd\n",
        "import numpy as np\n",
        "\n",
        "np.random.seed(42)\n",
        "\n",
        "data = np.random.rand(4, 4)\n",
        "columns = ['Feature1', 'Feature2', 'Feature3', 'Feature4']\n",
        "index = ['Observation1', 'Observation2', 'Observation3', 'Observation4']\n",
        "\n",
        "df = pd.DataFrame(data, columns=columns, index=index)\n",
        "\n",
        "print(df)\n"
      ]
    },
    {
      "cell_type": "markdown",
      "source": [
        "## Task - 2 Rename the task - 1 'df' dataframe column names to 'Random value 1', 'Random value 2', 'Random value 3' & 'Random value 4'"
      ],
      "metadata": {
        "id": "NL6mAdpm6lRd"
      }
    },
    {
      "cell_type": "code",
      "source": [
        "import pandas as pd\n",
        "import numpy as np\n",
        "\n",
        "np.random.seed(42)\n",
        "\n",
        "data = np.random.rand(4, 4)\n",
        "columns = ['Feature1', 'Feature2', 'Feature3', 'Feature4']\n",
        "index = ['Observation1', 'Observation2', 'Observation3', 'Observation4']\n",
        "\n",
        "df = pd.DataFrame(data, columns=columns, index=index)\n",
        "\n",
        "new_column_names = {\n",
        "    'Feature1': 'Random value 1',\n",
        "    'Feature2': 'Random value 2',\n",
        "    'Feature3': 'Random value 3',\n",
        "    'Feature4': 'Random value 4'\n",
        "}\n",
        "df = df.rename(columns=new_column_names)\n",
        "\n",
        "print(df)\n"
      ],
      "metadata": {
        "colab": {
          "base_uri": "https://localhost:8080/"
        },
        "id": "WulnbmCA2-jQ",
        "outputId": "91874fc4-cccd-468c-9c83-597e657f6e5c"
      },
      "execution_count": 2,
      "outputs": [
        {
          "output_type": "stream",
          "name": "stdout",
          "text": [
            "              Random value 1  Random value 2  Random value 3  Random value 4\n",
            "Observation1        0.374540        0.950714        0.731994        0.598658\n",
            "Observation2        0.156019        0.155995        0.058084        0.866176\n",
            "Observation3        0.601115        0.708073        0.020584        0.969910\n",
            "Observation4        0.832443        0.212339        0.181825        0.183405\n"
          ]
        }
      ]
    },
    {
      "cell_type": "markdown",
      "source": [
        "## Task - 3 Find the descriptive statistics of the 'df' dataframe"
      ],
      "metadata": {
        "id": "rLAg6F737A9H"
      }
    },
    {
      "cell_type": "code",
      "source": [
        "import pandas as pd\n",
        "import numpy as np\n",
        "\n",
        "np.random.seed(42)\n",
        "\n",
        "data = np.random.rand(4, 4)\n",
        "columns = ['Random value 1', 'Random value 2', 'Random value 3', 'Random value 4']\n",
        "index = ['Observation1', 'Observation2', 'Observation3', 'Observation4']\n",
        "\n",
        "df = pd.DataFrame(data, columns=columns, index=index)\n",
        "\n",
        "df_statistics = df.describe()\n",
        "\n",
        "print(df_statistics)\n"
      ],
      "metadata": {
        "colab": {
          "base_uri": "https://localhost:8080/"
        },
        "id": "Wx3AQoxk68os",
        "outputId": "dd3861b4-ed30-49cc-d56b-bd79931fbf29"
      },
      "execution_count": 3,
      "outputs": [
        {
          "output_type": "stream",
          "name": "stdout",
          "text": [
            "       Random value 1  Random value 2  Random value 3  Random value 4\n",
            "count        4.000000        4.000000        4.000000        4.000000\n",
            "mean         0.491029        0.506780        0.248122        0.654537\n",
            "std          0.291252        0.386153        0.329856        0.350875\n",
            "min          0.156019        0.155995        0.020584        0.183405\n",
            "25%          0.319910        0.198253        0.048709        0.494845\n",
            "50%          0.487828        0.460206        0.119954        0.732417\n",
            "75%          0.658947        0.768733        0.319367        0.892110\n",
            "max          0.832443        0.950714        0.731994        0.969910\n"
          ]
        }
      ]
    },
    {
      "cell_type": "markdown",
      "source": [
        "## Task - 4 Check for the null values in 'df' and find the data type of the columns.\n"
      ],
      "metadata": {
        "id": "J2krEARt7Ysz"
      }
    },
    {
      "cell_type": "code",
      "source": [
        "import pandas as pd\n",
        "import numpy as np\n",
        "\n",
        "np.random.seed(42)\n",
        "\n",
        "data = np.random.rand(4, 4)\n",
        "columns = ['Random value 1', 'Random value 2', 'Random value 3', 'Random value 4']\n",
        "index = ['Observation1', 'Observation2', 'Observation3', 'Observation4']\n",
        "\n",
        "df = pd.DataFrame(data, columns=columns, index=index)\n",
        "\n",
        "null_values = df.isnull()\n",
        "\n",
        "column_data_types = df.dtypes\n",
        "\n",
        "print(\"Null values:\")\n",
        "print(null_values)\n",
        "print(\"\\nData types of columns:\")\n",
        "print(column_data_types)\n"
      ],
      "metadata": {
        "colab": {
          "base_uri": "https://localhost:8080/"
        },
        "id": "fziQmyPu7UO7",
        "outputId": "21661598-72e8-44ab-bf6e-e23ac302d228"
      },
      "execution_count": 4,
      "outputs": [
        {
          "output_type": "stream",
          "name": "stdout",
          "text": [
            "Null values:\n",
            "              Random value 1  Random value 2  Random value 3  Random value 4\n",
            "Observation1           False           False           False           False\n",
            "Observation2           False           False           False           False\n",
            "Observation3           False           False           False           False\n",
            "Observation4           False           False           False           False\n",
            "\n",
            "Data types of columns:\n",
            "Random value 1    float64\n",
            "Random value 2    float64\n",
            "Random value 3    float64\n",
            "Random value 4    float64\n",
            "dtype: object\n"
          ]
        }
      ]
    },
    {
      "cell_type": "markdown",
      "source": [
        "## Task - 5 Display the 'Random value 2' & 'Random value 3' columns with location method and index location method"
      ],
      "metadata": {
        "id": "LTBywYNP8Z3g"
      }
    },
    {
      "cell_type": "code",
      "source": [
        "import pandas as pd\n",
        "import numpy as np\n",
        "\n",
        "np.random.seed(42)\n",
        "\n",
        "data = np.random.rand(4, 4)\n",
        "columns = ['Random value 1', 'Random value 2', 'Random value 3', 'Random value 4']\n",
        "index = ['Observation1', 'Observation2', 'Observation3', 'Observation4']\n",
        "\n",
        "df = pd.DataFrame(data, columns=columns, index=index)\n",
        "\n",
        "columns_loc = df.loc[:, ['Random value 2', 'Random value 3']]\n",
        "print(\"Using .loc[]:\")\n",
        "print(columns_loc)\n",
        "\n",
        "columns_iloc = df.iloc[:, [1, 2]]\n",
        "print(\"\\nUsing .iloc[]:\")\n",
        "print(columns_iloc)\n"
      ],
      "metadata": {
        "colab": {
          "base_uri": "https://localhost:8080/"
        },
        "id": "-5WZxP7x7rap",
        "outputId": "3d758357-d587-4c2a-bab9-5e3b63d8be9c"
      },
      "execution_count": 5,
      "outputs": [
        {
          "output_type": "stream",
          "name": "stdout",
          "text": [
            "Using .loc[]:\n",
            "              Random value 2  Random value 3\n",
            "Observation1        0.950714        0.731994\n",
            "Observation2        0.155995        0.058084\n",
            "Observation3        0.708073        0.020584\n",
            "Observation4        0.212339        0.181825\n",
            "\n",
            "Using .iloc[]:\n",
            "              Random value 2  Random value 3\n",
            "Observation1        0.950714        0.731994\n",
            "Observation2        0.155995        0.058084\n",
            "Observation3        0.708073        0.020584\n",
            "Observation4        0.212339        0.181825\n"
          ]
        }
      ]
    },
    {
      "cell_type": "code",
      "source": [],
      "metadata": {
        "id": "-rB_EYhX8w-r"
      },
      "execution_count": null,
      "outputs": []
    }
  ]
}